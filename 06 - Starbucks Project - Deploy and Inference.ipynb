{
 "cells": [
  {
   "cell_type": "markdown",
   "id": "5d0ab078",
   "metadata": {},
   "source": [
    "#### Training a XGBoost Classifier\n",
    "\n",
    "Our approach was to develop a XGBClassifier to predict the \"NEXT ACTION\""
   ]
  },
  {
   "cell_type": "code",
   "execution_count": 1,
   "id": "6f018003",
   "metadata": {},
   "outputs": [
    {
     "name": "stderr",
     "output_type": "stream",
     "text": [
      "/home/ec2-user/anaconda3/envs/python3/lib/python3.10/site-packages/sagemaker/base_serializers.py:28: UserWarning: A NumPy version >=1.23.5 and <2.3.0 is required for this version of SciPy (detected version 1.22.4)\n",
      "  import scipy.sparse\n"
     ]
    },
    {
     "name": "stdout",
     "output_type": "stream",
     "text": [
      "sagemaker.config INFO - Not applying SDK defaults from location: /etc/xdg/sagemaker/config.yaml\n",
      "sagemaker.config INFO - Not applying SDK defaults from location: /home/ec2-user/.config/sagemaker/config.yaml\n"
     ]
    }
   ],
   "source": [
    "import boto3\n",
    "import sagemaker\n",
    "import json\n",
    "from sagemaker import get_execution_role\n",
    "from sagemaker.sklearn import SKLearnModel\n",
    "#from sagemaker.estimator import Estimator\n",
    "from sagemaker import image_uris\n",
    "from datetime import datetime\n",
    "import pytz\n",
    "import ast\n",
    "from sagemaker.local import LocalSession\n",
    "from sagemaker.model import Model\n",
    "from sagemaker.tuner import HyperparameterTuner\n",
    "from sklearn.metrics import classification_report\n",
    "import numpy as np"
   ]
  },
  {
   "cell_type": "code",
   "execution_count": 2,
   "id": "e7e3e69d",
   "metadata": {},
   "outputs": [],
   "source": [
    "role = get_execution_role()\n",
    "region = boto3.Session().region_name\n",
    "sess = sagemaker.Session()\n",
    "sagemaker_runtime = boto3.client('sagemaker-runtime', region_name=region)\n",
    "\n",
    "# Local Session\n",
    "#sess = LocalSession()\n",
    "#sess.config = {'local': {'local_code':True}}\n",
    "\n",
    "Bucket = 'sagemaker-us-east-1-254050731868'\n",
    "Prefix = 'starbucks-capstone'"
   ]
  },
  {
   "cell_type": "markdown",
   "id": "cb5565a7",
   "metadata": {},
   "source": [
    "#### Read The best Model"
   ]
  },
  {
   "cell_type": "code",
   "execution_count": 3,
   "id": "77a61590",
   "metadata": {},
   "outputs": [
    {
     "name": "stdout",
     "output_type": "stream",
     "text": [
      "\n",
      "2024-09-21 19:54:33 Starting - Found matching resource for reuse\n",
      "2024-09-21 19:54:33 Downloading - Downloading the training image\n",
      "2024-09-21 19:54:33 Training - Training image download completed. Training in progress.\n",
      "2024-09-21 19:54:33 Uploading - Uploading generated training model\n",
      "2024-09-21 19:54:33 Completed - Resource reused by training job: tn-stb-event-sep2124-194742-011-e01417b1\n",
      "\n",
      "2024-09-21 19:54:33 Starting - Found matching resource for reuse\n",
      "2024-09-21 19:54:33 Downloading - Downloading the training image\n",
      "2024-09-21 19:54:33 Training - Training image download completed. Training in progress.\n",
      "2024-09-21 19:54:33 Uploading - Uploading generated training model\n",
      "2024-09-21 19:54:33 Completed - Resource reused by training job: tn-stb-event-sep2124-194742-011-e01417b1\n",
      "model data:  s3://sagemaker-us-east-1-254050731868/tn-stb-event-sep2124-194742-009-f3051caa/output/model.tar.gz\n",
      "Best Job:  tn-stb-event-sep2124-194742-009-f3051caa\n",
      "Best HyperParameters {'_tuning_objective_metric': 'test_precision', 'colsample-bytree': '0.5521202461251504', 'eta': '0.06475705881244607', 'max-depth': '6', 'min-child-weight': '14', 'sagemaker_container_log_level': '20', 'sagemaker_job_name': '\"tn-stb-event-sep2124-194742\"', 'sagemaker_program': '\"train.py\"', 'sagemaker_region': '\"us-east-1\"', 'sagemaker_submit_directory': '\"s3://sagemaker-us-east-1-254050731868/starbucks-capstone/model/tn-stb-event-sep2124-194742/source/sourcedir.tar.gz\"', 'subsample': '0.06406892389088285'}\n"
     ]
    }
   ],
   "source": [
    "image_uri = image_uris.retrieve(framework=\"sklearn\", region=region, version=\"1.2-1\")\n",
    "tuning_job_name = 'tn-stb-event-sep2124-194742'\n",
    "tuning_job = HyperparameterTuner.attach(tuning_job_name, sagemaker_session=sess)\n",
    "best_job = tuning_job.best_training_job()\n",
    "best_hyperparameters = tuning_job.best_estimator().hyperparameters()\n",
    "model_data = tuning_job.best_estimator().model_data\n",
    "print('model data: ', model_data)\n",
    "print('Best Job: ', best_job)\n",
    "print('Best HyperParameters' ,best_hyperparameters)"
   ]
  },
  {
   "cell_type": "markdown",
   "id": "0c3f3b97",
   "metadata": {},
   "source": [
    "#### Deploying the model"
   ]
  },
  {
   "cell_type": "code",
   "execution_count": 4,
   "id": "4cdfd878",
   "metadata": {},
   "outputs": [],
   "source": [
    "model = SKLearnModel(\n",
    "    model_data=model_data,\n",
    "    framework_version='1.2-1',\n",
    "    role=role,\n",
    "    sagemaker_session=sess,\n",
    "    dependencies=['code/requirements.txt'],\n",
    "    entry_point='code/train.py'\n",
    ")"
   ]
  },
  {
   "cell_type": "code",
   "execution_count": 5,
   "id": "9bcedcbc",
   "metadata": {},
   "outputs": [
    {
     "name": "stdout",
     "output_type": "stream",
     "text": [
      "-----------------!"
     ]
    }
   ],
   "source": [
    "predictor = model.deploy(initial_instance_count=1, instance_type='ml.t2.medium', endpoint_name='ep-starbucks')"
   ]
  },
  {
   "cell_type": "code",
   "execution_count": 6,
   "id": "d369d036",
   "metadata": {},
   "outputs": [
    {
     "name": "stderr",
     "output_type": "stream",
     "text": [
      "/home/ec2-user/anaconda3/envs/python3/lib/python3.10/site-packages/fsspec/registry.py:279: UserWarning: Your installed version of s3fs is very old and known to cause\n",
      "severe performance issues, see also https://github.com/dask/dask/issues/10276\n",
      "\n",
      "To fix, you should specify a lower version bound on s3fs, or\n",
      "update the current installation.\n",
      "\n",
      "  warnings.warn(s3_msg)\n"
     ]
    }
   ],
   "source": [
    "import pandas as pd\n",
    "\n",
    "train_path = f's3://{Bucket}/{Prefix}/dataset/train.csv'\n",
    "test_path = f's3://{Bucket}/{Prefix}/dataset/test.csv'\n",
    "\n",
    "train = pd.read_csv(train_path, index_col=0)\n",
    "test  = pd.read_csv(test_path, index_col=0)\n",
    "\n",
    "X_train = train.drop(columns='event')\n",
    "y_train = train.get('event')\n",
    "\n",
    "X_test  = test.drop(columns='event')\n",
    "y_test  = test.get('event')\n",
    "\n",
    "one_sample = X_test.sample(1).to_json(orient='records')\n",
    "multiple_samples = X_test.sample(10).to_json(orient='records')\n",
    "\n",
    "one_sample = ast.literal_eval(one_sample)       # format correctly to send\n",
    "multiple_samples = json.loads(multiple_samples) # format correctly to send"
   ]
  },
  {
   "cell_type": "markdown",
   "id": "a960334a",
   "metadata": {},
   "source": [
    "#### Testing One Sample"
   ]
  },
  {
   "cell_type": "code",
   "execution_count": 7,
   "id": "43770d90",
   "metadata": {},
   "outputs": [
    {
     "name": "stdout",
     "output_type": "stream",
     "text": [
      "Prediction of next events and probabilities: {'offer completed': {'0': 0.5074740648269653}, 'offer received': {'0': 0.10439745336771011}, 'offer viewed': {'0': 0.09287305176258087}, 'transaction': {'0': 0.2952553927898407}}\n"
     ]
    }
   ],
   "source": [
    "import json\n",
    "\n",
    "endpoint_name = 'ep-starbucks'\n",
    "\n",
    "payload = json.dumps(one_sample)\n",
    "\n",
    "response = sagemaker_runtime.invoke_endpoint(\n",
    "    EndpointName=endpoint_name,\n",
    "    ContentType='application/json',\n",
    "    Body=payload\n",
    ")\n",
    "\n",
    "result = json.loads(response['Body'].read().decode())\n",
    "\n",
    "print(f\"Prediction of next events and probabilities: {result}\")"
   ]
  },
  {
   "cell_type": "markdown",
   "id": "c742b139",
   "metadata": {},
   "source": [
    "#### Testing Multiple Samples"
   ]
  },
  {
   "cell_type": "code",
   "execution_count": 8,
   "id": "8353c9fe",
   "metadata": {},
   "outputs": [
    {
     "name": "stdout",
     "output_type": "stream",
     "text": [
      "Prediction of next events and probabilities: {'offer completed': {'0': 0.19169123470783234, '1': 0.35546839237213135, '2': 0.4267372190952301, '3': 0.04460670426487923, '4': 0.09158255904912949, '5': 0.005726163741201162, '6': 0.31745645403862, '7': 0.021664030849933624, '8': 0.47849637269973755, '9': 0.007402719929814339}, 'offer received': {'0': 0.10461727529764175, '1': 0.3411425054073334, '2': 0.2173684984445572, '3': 0.11153170466423035, '4': 0.5586006045341492, '5': 0.07815248519182205, '6': 0.5117647051811218, '7': 0.16847339272499084, '8': 0.16314852237701416, '9': 0.24545027315616608}, 'offer viewed': {'0': 0.5800002217292786, '1': 0.05237748473882675, '2': 0.047427013516426086, '3': 0.11416944116353989, '4': 0.08814860880374908, '5': 0.7870533466339111, '6': 0.054051000624895096, '7': 0.6684191823005676, '8': 0.0929161086678505, '9': 0.6000007390975952}, 'transaction': {'0': 0.12369128316640854, '1': 0.2510116696357727, '2': 0.308467298746109, '3': 0.7296921610832214, '4': 0.26166823506355286, '5': 0.1290680319070816, '6': 0.11672783643007278, '7': 0.1414434164762497, '8': 0.2654390335083008, '9': 0.14714623987674713}}\n"
     ]
    }
   ],
   "source": [
    "import json\n",
    "\n",
    "endpoint_name = 'ep-starbucks'\n",
    "\n",
    "payload = json.dumps(multiple_samples)\n",
    "\n",
    "response = sagemaker_runtime.invoke_endpoint(\n",
    "    EndpointName=endpoint_name,\n",
    "    ContentType='application/json',\n",
    "    Body=payload\n",
    ")\n",
    "\n",
    "result = json.loads(response['Body'].read().decode())\n",
    "\n",
    "print(f\"Prediction of next events and probabilities: {result}\")"
   ]
  },
  {
   "cell_type": "markdown",
   "id": "c07f99f4",
   "metadata": {},
   "source": [
    "#### Predict over the enpoint all the test samples"
   ]
  },
  {
   "cell_type": "code",
   "execution_count": 9,
   "id": "a031d814",
   "metadata": {},
   "outputs": [
    {
     "data": {
      "text/html": [
       "<div>\n",
       "<style scoped>\n",
       "    .dataframe tbody tr th:only-of-type {\n",
       "        vertical-align: middle;\n",
       "    }\n",
       "\n",
       "    .dataframe tbody tr th {\n",
       "        vertical-align: top;\n",
       "    }\n",
       "\n",
       "    .dataframe thead th {\n",
       "        text-align: right;\n",
       "    }\n",
       "</style>\n",
       "<table border=\"1\" class=\"dataframe\">\n",
       "  <thead>\n",
       "    <tr style=\"text-align: right;\">\n",
       "      <th></th>\n",
       "      <th>offer completed</th>\n",
       "      <th>offer received</th>\n",
       "      <th>offer viewed</th>\n",
       "      <th>transaction</th>\n",
       "    </tr>\n",
       "  </thead>\n",
       "  <tbody>\n",
       "    <tr>\n",
       "      <th>0</th>\n",
       "      <td>0.359530</td>\n",
       "      <td>0.421374</td>\n",
       "      <td>0.059271</td>\n",
       "      <td>0.159825</td>\n",
       "    </tr>\n",
       "    <tr>\n",
       "      <th>1</th>\n",
       "      <td>0.591181</td>\n",
       "      <td>0.097414</td>\n",
       "      <td>0.042019</td>\n",
       "      <td>0.269387</td>\n",
       "    </tr>\n",
       "    <tr>\n",
       "      <th>2</th>\n",
       "      <td>0.054186</td>\n",
       "      <td>0.139624</td>\n",
       "      <td>0.623495</td>\n",
       "      <td>0.182695</td>\n",
       "    </tr>\n",
       "    <tr>\n",
       "      <th>3</th>\n",
       "      <td>0.175706</td>\n",
       "      <td>0.114152</td>\n",
       "      <td>0.598048</td>\n",
       "      <td>0.112094</td>\n",
       "    </tr>\n",
       "    <tr>\n",
       "      <th>4</th>\n",
       "      <td>0.027842</td>\n",
       "      <td>0.633491</td>\n",
       "      <td>0.076225</td>\n",
       "      <td>0.262442</td>\n",
       "    </tr>\n",
       "    <tr>\n",
       "      <th>...</th>\n",
       "      <td>...</td>\n",
       "      <td>...</td>\n",
       "      <td>...</td>\n",
       "      <td>...</td>\n",
       "    </tr>\n",
       "    <tr>\n",
       "      <th>46918</th>\n",
       "      <td>0.529892</td>\n",
       "      <td>0.007429</td>\n",
       "      <td>0.081100</td>\n",
       "      <td>0.381579</td>\n",
       "    </tr>\n",
       "    <tr>\n",
       "      <th>46919</th>\n",
       "      <td>0.035760</td>\n",
       "      <td>0.426389</td>\n",
       "      <td>0.112181</td>\n",
       "      <td>0.425670</td>\n",
       "    </tr>\n",
       "    <tr>\n",
       "      <th>46920</th>\n",
       "      <td>0.446557</td>\n",
       "      <td>0.283921</td>\n",
       "      <td>0.081939</td>\n",
       "      <td>0.187582</td>\n",
       "    </tr>\n",
       "    <tr>\n",
       "      <th>46921</th>\n",
       "      <td>0.067514</td>\n",
       "      <td>0.455138</td>\n",
       "      <td>0.096399</td>\n",
       "      <td>0.380949</td>\n",
       "    </tr>\n",
       "    <tr>\n",
       "      <th>46922</th>\n",
       "      <td>0.008280</td>\n",
       "      <td>0.762430</td>\n",
       "      <td>0.017638</td>\n",
       "      <td>0.211653</td>\n",
       "    </tr>\n",
       "  </tbody>\n",
       "</table>\n",
       "<p>46923 rows × 4 columns</p>\n",
       "</div>"
      ],
      "text/plain": [
       "       offer completed  offer received  offer viewed  transaction\n",
       "0             0.359530        0.421374      0.059271     0.159825\n",
       "1             0.591181        0.097414      0.042019     0.269387\n",
       "2             0.054186        0.139624      0.623495     0.182695\n",
       "3             0.175706        0.114152      0.598048     0.112094\n",
       "4             0.027842        0.633491      0.076225     0.262442\n",
       "...                ...             ...           ...          ...\n",
       "46918         0.529892        0.007429      0.081100     0.381579\n",
       "46919         0.035760        0.426389      0.112181     0.425670\n",
       "46920         0.446557        0.283921      0.081939     0.187582\n",
       "46921         0.067514        0.455138      0.096399     0.380949\n",
       "46922         0.008280        0.762430      0.017638     0.211653\n",
       "\n",
       "[46923 rows x 4 columns]"
      ]
     },
     "execution_count": 9,
     "metadata": {},
     "output_type": "execute_result"
    }
   ],
   "source": [
    "endpoint_name = 'ep-starbucks'\n",
    "\n",
    "batch_size=500\n",
    "results = []\n",
    "for i in range(0, len(X_test), batch_size):\n",
    "    X_test_batch = X_test[i:i+batch_size].to_json(orient='records')\n",
    "    X_test_batch = json.loads(X_test_batch)\n",
    "    payload = json.dumps(X_test_batch)\n",
    "    response = sagemaker_runtime.invoke_endpoint(EndpointName=endpoint_name, ContentType='application/json',Body=payload)\n",
    "    result = json.loads(response['Body'].read().decode())\n",
    "    result = pd.DataFrame(result)\n",
    "    results.append(result)\n",
    "    \n",
    "results = pd.concat(results).reset_index(drop=True)\n",
    "results"
   ]
  },
  {
   "cell_type": "code",
   "execution_count": 11,
   "id": "ce07baba",
   "metadata": {},
   "outputs": [],
   "source": [
    "#event = results.columns\n",
    "\n",
    "y_pred = results.apply(np.argmax, axis=1)#.apply(lambda x: event[x])"
   ]
  },
  {
   "cell_type": "code",
   "execution_count": 12,
   "id": "796b045f",
   "metadata": {},
   "outputs": [],
   "source": [
    "y = y_test.map(dict(zip(result.columns, range(4))))"
   ]
  },
  {
   "cell_type": "code",
   "execution_count": 13,
   "id": "b00e694e",
   "metadata": {},
   "outputs": [
    {
     "data": {
      "text/html": [
       "<div>\n",
       "<style scoped>\n",
       "    .dataframe tbody tr th:only-of-type {\n",
       "        vertical-align: middle;\n",
       "    }\n",
       "\n",
       "    .dataframe tbody tr th {\n",
       "        vertical-align: top;\n",
       "    }\n",
       "\n",
       "    .dataframe thead th {\n",
       "        text-align: right;\n",
       "    }\n",
       "</style>\n",
       "<table border=\"1\" class=\"dataframe\">\n",
       "  <thead>\n",
       "    <tr style=\"text-align: right;\">\n",
       "      <th></th>\n",
       "      <th>precision</th>\n",
       "      <th>recall</th>\n",
       "      <th>f1-score</th>\n",
       "      <th>support</th>\n",
       "    </tr>\n",
       "  </thead>\n",
       "  <tbody>\n",
       "    <tr>\n",
       "      <th>offer completed</th>\n",
       "      <td>0.283614</td>\n",
       "      <td>0.707753</td>\n",
       "      <td>0.404953</td>\n",
       "      <td>5314.000000</td>\n",
       "    </tr>\n",
       "    <tr>\n",
       "      <th>offer received</th>\n",
       "      <td>0.502248</td>\n",
       "      <td>0.590424</td>\n",
       "      <td>0.542778</td>\n",
       "      <td>9837.000000</td>\n",
       "    </tr>\n",
       "    <tr>\n",
       "      <th>offer viewed</th>\n",
       "      <td>0.538857</td>\n",
       "      <td>0.830563</td>\n",
       "      <td>0.653641</td>\n",
       "      <td>9083.000000</td>\n",
       "    </tr>\n",
       "    <tr>\n",
       "      <th>transaction</th>\n",
       "      <td>0.788466</td>\n",
       "      <td>0.281414</td>\n",
       "      <td>0.414785</td>\n",
       "      <td>22689.000000</td>\n",
       "    </tr>\n",
       "    <tr>\n",
       "      <th>accuracy</th>\n",
       "      <td>0.500778</td>\n",
       "      <td>0.500778</td>\n",
       "      <td>0.500778</td>\n",
       "      <td>0.500778</td>\n",
       "    </tr>\n",
       "    <tr>\n",
       "      <th>macro avg</th>\n",
       "      <td>0.528296</td>\n",
       "      <td>0.602538</td>\n",
       "      <td>0.504039</td>\n",
       "      <td>46923.000000</td>\n",
       "    </tr>\n",
       "    <tr>\n",
       "      <th>weighted avg</th>\n",
       "      <td>0.622971</td>\n",
       "      <td>0.500778</td>\n",
       "      <td>0.486740</td>\n",
       "      <td>46923.000000</td>\n",
       "    </tr>\n",
       "  </tbody>\n",
       "</table>\n",
       "</div>"
      ],
      "text/plain": [
       "                 precision    recall  f1-score       support\n",
       "offer completed   0.283614  0.707753  0.404953   5314.000000\n",
       "offer received    0.502248  0.590424  0.542778   9837.000000\n",
       "offer viewed      0.538857  0.830563  0.653641   9083.000000\n",
       "transaction       0.788466  0.281414  0.414785  22689.000000\n",
       "accuracy          0.500778  0.500778  0.500778      0.500778\n",
       "macro avg         0.528296  0.602538  0.504039  46923.000000\n",
       "weighted avg      0.622971  0.500778  0.486740  46923.000000"
      ]
     },
     "execution_count": 13,
     "metadata": {},
     "output_type": "execute_result"
    }
   ],
   "source": [
    "pd.DataFrame(classification_report(y, y_pred, labels=range(4), target_names=results.columns, output_dict=True)).T"
   ]
  },
  {
   "cell_type": "code",
   "execution_count": 14,
   "id": "30ca5746",
   "metadata": {},
   "outputs": [],
   "source": [
    "predictor.delete_endpoint()"
   ]
  }
 ],
 "metadata": {
  "kernelspec": {
   "display_name": "Python 3 (ipykernel)",
   "language": "python",
   "name": "python3"
  },
  "language_info": {
   "codemirror_mode": {
    "name": "ipython",
    "version": 3
   },
   "file_extension": ".py",
   "mimetype": "text/x-python",
   "name": "python",
   "nbconvert_exporter": "python",
   "pygments_lexer": "ipython3",
   "version": "3.10.14"
  }
 },
 "nbformat": 4,
 "nbformat_minor": 5
}
